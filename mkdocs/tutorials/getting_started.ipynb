{
 "cells": [
  {
   "cell_type": "markdown",
   "id": "44a5db9a259b24d6",
   "metadata": {
    "collapsed": false
   },
   "source": [
    "# Getting started with cloudfspy\n",
    "\n",
    "`cloudFspy` provides an api based on `pathlib.Path` to access files on cloud storage services. It is a wrapper, similar to `fsspec`, around the `fsspec` library, which provides a common interface to many different file systems. `cloudFspy` is designed to be easy to use and to provide a consistent interface to access files on cloud storage services.This tutorial will show you how to use `cloudFspy` to access files on cloud storage services.\n",
    "\n",
    "### Downloading and Uploading Files\n",
    "\n",
    "We start by importing the `GenericPath` class from the `cloudFspy` library. We can then use the `GenericPath` class to access files on cloud storage services."
   ]
  },
  {
   "cell_type": "code",
   "execution_count": 1,
   "id": "9e9e5162",
   "metadata": {},
   "outputs": [],
   "source": [
    "import cloudfspy\n",
    "from cloudfspy import GenericPath as Path"
   ]
  },
  {
   "cell_type": "markdown",
   "id": "9919ccbf",
   "metadata": {},
   "source": [
    "The `set_cache_folder` and `clear_cache_folder` methods enable the configuration and purging of the cache directory. This directory serves as a temporary storage area for files fetched from the cloud, facilitating efficient access to large files without the need for repeated downloads. Future enhancements will introduce various caching tactics. Presently, our caching approach involves transferring the file to the cache directory for subsequent access. If a file in the cache is more than two days old, it will be re-downloaded. We aim to make this behavior adjustable in upcoming updates."
   ]
  },
  {
   "cell_type": "code",
   "execution_count": 2,
   "id": "initial_id",
   "metadata": {
    "ExecuteTime": {
     "end_time": "2024-02-25T16:30:17.601248Z",
     "start_time": "2024-02-25T16:30:01.793741Z"
    },
    "collapsed": true
   },
   "outputs": [],
   "source": [
    "# set the cache folder\n",
    "cloudfspy.set_cache_folder(\"cache\")\n",
    "cloudfspy.clear_cache_folder()"
   ]
  },
  {
   "cell_type": "markdown",
   "id": "1700fd4f",
   "metadata": {},
   "source": [
    "**Downloading files**\n"
   ]
  },
  {
   "cell_type": "code",
   "execution_count": 3,
   "id": "c0433b6d",
   "metadata": {},
   "outputs": [
    {
     "name": "stderr",
     "output_type": "stream",
     "text": [
      "Downloading file: 100%|██████████| 22.5M/22.5M [00:00<00:00, 30.5MiB/s]\n"
     ]
    }
   ],
   "source": [
    "from_path = Path(\"gs://gpr-studio-data/Archive.zip\")\n",
    "to_path = Path(\"/Users/haruiz/Desktop/Archive.zip\")\n",
    "\n",
    "from_path.download_to(to_path)\n",
    "with open(to_path, \"rb\") as f:\n",
    "    data = f.read()"
   ]
  },
  {
   "cell_type": "markdown",
   "id": "045a44eb",
   "metadata": {},
   "source": [
    "**Uploading Files**"
   ]
  },
  {
   "cell_type": "code",
   "execution_count": 4,
   "id": "90d00f5c",
   "metadata": {},
   "outputs": [
    {
     "name": "stderr",
     "output_type": "stream",
     "text": [
      "Uploading file:  93%|█████████▎| 21.0M/22.5M [00:10<00:00, 2.07MB/s]\n",
      "Downloading file: 100%|██████████| 22.5M/22.5M [00:00<00:00, 30.8MiB/s]\n"
     ]
    }
   ],
   "source": [
    "from_path = Path(\"/Users/haruiz/Desktop/Archive.zip\")\n",
    "to_path = Path(\"gs://gpr-studio-data/Archive.zip\")\n",
    "\n",
    "from_path.upload_to(to_path)\n",
    "with open(to_path, \"rb\") as f:\n",
    "    data = f.read()"
   ]
  },
  {
   "cell_type": "code",
   "execution_count": 5,
   "id": "4eb25b55",
   "metadata": {},
   "outputs": [
    {
     "name": "stdout",
     "output_type": "stream",
     "text": [
      "cache\n",
      "    - gpr-studio-data\n",
      "        - Archive.zip\n"
     ]
    }
   ],
   "source": [
    "cloudfspy.list_cache_folder(max_levels=5)"
   ]
  },
  {
   "cell_type": "markdown",
   "source": [
    "## creating and deleting folders\n",
    "\n",
    "The `mkdir` and `rmdir` methods are used to create and delete folders, respectively. The `mkdir` method creates a folder at the specified path, while the `rmdir` method deletes the folder at the specified path. "
   ],
   "metadata": {
    "collapsed": false
   },
   "id": "f244c19eae606f98"
  },
  {
   "cell_type": "code",
   "outputs": [
    {
     "data": {
      "text/plain": "True"
     },
     "execution_count": 8,
     "metadata": {},
     "output_type": "execute_result"
    }
   ],
   "source": [
    "path = Path(\"gs://gpr-studio-data/test_folder/\")\n",
    "path.mkdir(exist_ok=True, parents=True)\n",
    "path.exists()"
   ],
   "metadata": {
    "collapsed": false,
    "ExecuteTime": {
     "end_time": "2024-02-26T05:32:23.007754Z",
     "start_time": "2024-02-26T05:32:22.131498Z"
    }
   },
   "id": "b0524ffd4c43a851",
   "execution_count": 8
  },
  {
   "cell_type": "code",
   "outputs": [
    {
     "data": {
      "text/plain": "False"
     },
     "execution_count": 9,
     "metadata": {},
     "output_type": "execute_result"
    }
   ],
   "source": [
    "path.rmdir()\n",
    "path.exists()"
   ],
   "metadata": {
    "collapsed": false,
    "ExecuteTime": {
     "end_time": "2024-02-26T05:32:28.495404Z",
     "start_time": "2024-02-26T05:32:28.030453Z"
    }
   },
   "id": "79ebdb2cfc0c2f18",
   "execution_count": 9
  }
 ],
 "metadata": {
  "kernelspec": {
   "display_name": "Python 3",
   "language": "python",
   "name": "python3"
  },
  "language_info": {
   "codemirror_mode": {
    "name": "ipython",
    "version": 3
   },
   "file_extension": ".py",
   "mimetype": "text/x-python",
   "name": "python",
   "nbconvert_exporter": "python",
   "pygments_lexer": "ipython3",
   "version": "3.10.9"
  }
 },
 "nbformat": 4,
 "nbformat_minor": 5
}
